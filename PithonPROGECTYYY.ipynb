{
 "cells": [
  {
   "cell_type": "code",
   "execution_count": 5,
   "metadata": {},
   "outputs": [
    {
     "name": "stdout",
     "output_type": "stream",
     "text": [
      "Hello, World\n"
     ]
    }
   ],
   "source": [
    "import numpy as np\n",
    "a=1\n",
    "n=1\n",
    "SIZE = 15\n",
    "matrix = np.zeros(shape=[SIZE, SIZE], dtype=np.int)\n",
    "while wins=0 and nothing=0 :\n",
    "    d=1\n",
    "    while d!=0 :\n",
    "        x=int(input(\"введите координату по y \"))\n",
    "        y=int(input(\"введите координату по x \"))\n",
    "        d= matrix [x-1][y-1]\n",
    "    matrix [x-1][y-1] = n\n",
    "    n=-1**a\n",
    "    a=a+1\n",
    "    if matrix [x-1][y-1] = matrix [x-2][y-1] = matrix [x-3][y-1] = matrix [x-4][y-1] = matrix [x-5][y-1] or\n",
    "    matrix [x-1][y-1] = matrix [x][y-1] = matrix [x+1][y-1] = matrix [x+2][y-1] = matrix [x+3][y-1] or\n",
    "    matrix [x-1][y-1] = matrix [x-1][y-2] = matrix [x-1][y-3] = matrix [x-1][y-4] = matrix [x-1][y-5] or\n",
    "    matrix [x-1][y-1] = matrix [x-1][y] = matrix [x-1][y+1] = matrix [x-1][y+2] = matrix [x-1][y+3] or\n",
    "    matrix [x-1][y-1] = matrix [x-2][y-2] = matrix [x-3][y-3] = matrix [x-4][y-4] = matrix [x-5][y-5] or\n",
    "    matrix [x+1][y+1] = matrix [x+2][y+2] = matrix [x+3][y+3] = matrix [x+4][y+4] = matrix [x+5][y+5] or\n",
    "    matrix [x-1][y-1] = matrix [x-2][y-2] = matrix [x][y] = matrix [x+1][y+1] = matrix [x+2][y+2] or\n",
    "    matrix [x-1][y-1] = matrix [x-2][y-2] = matrix [x-3][y-3] = matrix [x][y] = matrix [x+1][y+1] or\n",
    "    matrix [x-1][y-1] = matrix [x-2][y-2] = matrix [x-3][y-3] = matrix [x-4][y-4] = matrix [x][y] or\n",
    "    matrix [x-1][y-1] = matrix [x-2][y-2] = matrix [x-3][y-3] = matrix [x-4][y-4] = matrix [x-5][y-5] or\n",
    "    matrix [x-1][y-1] = matrix [x-2][y-1] = matrix [x][y-1] = matrix [x+1][y-1] = matrix [x+2][y-1] or\n",
    "    matrix [x-1][y-1] = matrix [x-2][y-1] = matrix [x-3][y-1] = matrix [x][y-1] = matrix [x+1][y-1] or\n",
    "    matrix [x-1][y-1] = matrix [x-2][y-1] = matrix [x-3][y-1] = matrix [x-4][y-1] = matrix [x][y-1] or\n",
    "    matrix [x-1][y-1] = matrix [x-1][y-2] = matrix [x-1][y] = matrix [x-1][y+1] = matrix [x-1][y+2] or\n",
    "    matrix [x-1][y-1] = matrix [x-1][y-2] = matrix [x-1][y-3] = matrix [x-1][y] = matrix [x-1][y+1] or\n",
    "    matrix [x-1][y-1] = matrix [x-1][y-2] = matrix [x-1][y-3] = matrix [x-1][y-4] = matrix [x-1][y] :\n",
    "        wins= matrix [x-1][y-1]\n",
    "    else:\n",
    "        wins=0\n",
    "    if"
   ]
  }
 ],
 "metadata": {
  "kernelspec": {
   "display_name": "Python 3",
   "language": "python",
   "name": "python3"
  },
  "language_info": {
   "codemirror_mode": {
    "name": "ipython",
    "version": 3
   },
   "file_extension": ".py",
   "mimetype": "text/x-python",
   "name": "python",
   "nbconvert_exporter": "python",
   "pygments_lexer": "ipython3",
   "version": "3.8.3"
  }
 },
 "nbformat": 4,
 "nbformat_minor": 4
}
